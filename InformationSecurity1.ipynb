{
  "nbformat": 4,
  "nbformat_minor": 0,
  "metadata": {
    "colab": {
      "provenance": []
    },
    "kernelspec": {
      "name": "python3",
      "display_name": "Python 3"
    },
    "language_info": {
      "name": "python"
    }
  },
  "cells": [
    {
      "cell_type": "code",
      "source": [
        "num=0\n",
        "if num>0:\n",
        "  print(\"+ve\")\n",
        "elif num==0:\n",
        "  print(\"Zero\")"
      ],
      "metadata": {
        "colab": {
          "base_uri": "https://localhost:8080/"
        },
        "id": "jn-sDu3L8c1i",
        "outputId": "b60b8946-eb13-4419-81c1-8fa118f7787d"
      },
      "execution_count": null,
      "outputs": [
        {
          "output_type": "stream",
          "name": "stdout",
          "text": [
            "Zero\n"
          ]
        }
      ]
    },
    {
      "cell_type": "code",
      "source": [
        "text=\"arnav\"\n",
        "len(text)"
      ],
      "metadata": {
        "colab": {
          "base_uri": "https://localhost:8080/"
        },
        "id": "xaSIyxSV9POc",
        "outputId": "f80fde79-dc57-4f63-d91b-d9301d9c29a8"
      },
      "execution_count": null,
      "outputs": [
        {
          "output_type": "execute_result",
          "data": {
            "text/plain": [
              "5"
            ]
          },
          "metadata": {},
          "execution_count": 2
        }
      ]
    },
    {
      "cell_type": "markdown",
      "source": [
        "CEASER ALGORITHM\n",
        "\n",
        "WORKS ON SHIFTING BY N\n",
        "\n",
        "\n"
      ],
      "metadata": {
        "id": "CGQhkyyf96hF"
      }
    },
    {
      "cell_type": "markdown",
      "source": [
        "Algorithm for Ceaser Cipher\n",
        "\n",
        "Input:\n",
        "1. String of lower case letters,called Text\n",
        "2. An integer between 0-25 denoting required shift"
      ],
      "metadata": {
        "id": "DJ98FPoo-PqJ"
      }
    },
    {
      "cell_type": "code",
      "source": [
        "text=str(input(\"Enter a word: \"))\n",
        "shift=int(input(\"Enter the key\"))"
      ],
      "metadata": {
        "colab": {
          "base_uri": "https://localhost:8080/"
        },
        "id": "z_u09UIO9O6K",
        "outputId": "e5a1d3cd-d695-447f-d91d-dac0406b4df1"
      },
      "execution_count": null,
      "outputs": [
        {
          "name": "stdout",
          "output_type": "stream",
          "text": [
            "Enter a word: arnav\n",
            "Enter the key3\n"
          ]
        }
      ]
    },
    {
      "cell_type": "code",
      "source": [
        "for i in range(len(text)):\n",
        "  char = text[i]\n",
        "  print(char)"
      ],
      "metadata": {
        "colab": {
          "base_uri": "https://localhost:8080/"
        },
        "id": "wkTgQWs-_GFx",
        "outputId": "ca0c30cd-4b46-4209-e1c5-e04e54643a93"
      },
      "execution_count": null,
      "outputs": [
        {
          "output_type": "stream",
          "name": "stdout",
          "text": [
            "a\n",
            "r\n",
            "n\n",
            "a\n",
            "v\n"
          ]
        }
      ]
    },
    {
      "cell_type": "code",
      "source": [
        "#STEP 3 FOR all upper case shift as per input\n",
        "text = \"ARNAV\"\n",
        "shift = 3\n",
        "result=''\n",
        "\n",
        "for i in range(len(text)):\n",
        "  char = text[i]\n",
        "  print(\"Orignal char\",char)\n",
        "  result = result + chr((ord(char) + shift-65) % 26 + 65)\n",
        "  print(\"Corresponding cipher\",result[i])\n",
        "  print(\"-------------------------\")\n",
        "print(\"Final Result\",result)"
      ],
      "metadata": {
        "colab": {
          "base_uri": "https://localhost:8080/"
        },
        "id": "hEKOXzPBAEAb",
        "outputId": "c5d18c68-d85d-4ad2-a0b2-afda4266f6e3"
      },
      "execution_count": null,
      "outputs": [
        {
          "output_type": "stream",
          "name": "stdout",
          "text": [
            "Orignal char A\n",
            "Corresponding cipher D\n",
            "-------------------------\n",
            "Orignal char R\n",
            "Corresponding cipher U\n",
            "-------------------------\n",
            "Orignal char N\n",
            "Corresponding cipher Q\n",
            "-------------------------\n",
            "Orignal char A\n",
            "Corresponding cipher D\n",
            "-------------------------\n",
            "Orignal char V\n",
            "Corresponding cipher Y\n",
            "-------------------------\n",
            "Final Result DUQDY\n"
          ]
        }
      ]
    },
    {
      "cell_type": "code",
      "source": [
        "# char = 'M'\n",
        "# ord('M') = 77 (ascii value)\n",
        "# (77 + 3 - 65) % 26 + 65 (65 bcs it is starting ascii value of small letters and %26 bcs 26 letters)\n",
        "# = (15) % 26 + 65\n",
        "# = 15 + 65 = 80\n",
        "# chr(80) = 'P'"
      ],
      "metadata": {
        "id": "DOQUVQB2AJGV"
      },
      "execution_count": null,
      "outputs": []
    },
    {
      "cell_type": "code",
      "source": [
        "#STEP 5 FOR all lower case shift as per input\n",
        "text = \"abc\"\n",
        "shift = 4\n",
        "result=''\n",
        "for i in range(len(text)):\n",
        "  char = text[i]\n",
        "  result = result + chr((ord(char) + shift-97) % 26 + 97)\n",
        "print(result)"
      ],
      "metadata": {
        "colab": {
          "base_uri": "https://localhost:8080/"
        },
        "id": "urf6a-l-AdK1",
        "outputId": "05e19231-1ff4-45cc-ac4f-7c6048cc88a8"
      },
      "execution_count": null,
      "outputs": [
        {
          "output_type": "stream",
          "name": "stdout",
          "text": [
            "efg\n"
          ]
        }
      ]
    },
    {
      "cell_type": "code",
      "source": [
        "# ABove we took 97 bcs its starting ascii of small letters"
      ],
      "metadata": {
        "id": "JnqrjswSAiGh"
      },
      "execution_count": null,
      "outputs": []
    },
    {
      "cell_type": "code",
      "source": [
        "#INPUTS\n",
        "text = \"Arnav\"\n",
        "shift = 3\n",
        "\n",
        "result=''\n",
        "# traverse text\n",
        "for i in range(len(text)):\n",
        "  char = text[i]\n",
        "\n",
        "  # Encrypt uppercase characters\n",
        "  if (char.isupper()):\n",
        "    result += chr((ord(char) + shift-65) % 26 + 65)\n",
        "\n",
        "  # Encrypt lowercase characters\n",
        "  else:\n",
        "    result += chr((ord(char) + shift - 97) % 26 + 97)\n",
        "\n",
        "\n",
        "print (\"Text : \" + text)\n",
        "print (\"Shift : \" + str(shift))\n",
        "print(\"Cipher : \", result)\n"
      ],
      "metadata": {
        "colab": {
          "base_uri": "https://localhost:8080/"
        },
        "id": "zKn_YH7gAnl5",
        "outputId": "909ba0eb-02c9-432c-a9f6-4c8b0b4cfeb4"
      },
      "execution_count": null,
      "outputs": [
        {
          "output_type": "stream",
          "name": "stdout",
          "text": [
            "Text : Arnav\n",
            "Shift : 3\n",
            "Cipher :  Duqdy\n"
          ]
        }
      ]
    },
    {
      "cell_type": "markdown",
      "source": [
        "# Final Ceaser Encryption"
      ],
      "metadata": {
        "id": "TgregZHjA0qn"
      }
    },
    {
      "cell_type": "code",
      "source": [
        "#A python program to illustrate Caesar Cipher Technique\n",
        "def encrypt(text,s):\n",
        "  result = \"\"\n",
        "  # traverse text\n",
        "  s=s\n",
        "  print(s)\n",
        "  for i in range(len(text)):\n",
        "    char = text[i]\n",
        "\n",
        "    # Encrypt uppercase characters\n",
        "    if (char.isupper()):\n",
        "      result += chr((ord(char) + s-65) % 26 + 65)\n",
        "\n",
        "    # Encrypt lowercase characters\n",
        "    else:\n",
        "      result += chr((ord(char) + s - 97) % 26 + 97)\n",
        "\n",
        "  return result\n",
        "\n",
        "#check the above function\n",
        "text=str(input(\"enter the word:\"))\n",
        "shift=int(input(\"Enter the key: \"))\n",
        "# print (\"Text : \" + text)\n",
        "# print (\"Shift : \" + str(s))\n",
        "print (\"Cipher: \" + encrypt(text,shift))"
      ],
      "metadata": {
        "colab": {
          "base_uri": "https://localhost:8080/"
        },
        "id": "xLuwtZZGA8y3",
        "outputId": "f963d897-1737-4201-e7da-7db0f71619cf"
      },
      "execution_count": null,
      "outputs": [
        {
          "output_type": "stream",
          "name": "stdout",
          "text": [
            "enter the word:Arnav Chaturvedi\n",
            "Enter the key: 4\n",
            "4\n",
            "Cipher: EvrezrGlexyvzihm\n"
          ]
        }
      ]
    },
    {
      "cell_type": "markdown",
      "source": [
        "#DECRYPTION"
      ],
      "metadata": {
        "id": "wTKexM9rBFL8"
      }
    },
    {
      "cell_type": "code",
      "source": [
        "def decrypt(text,s):\n",
        "\n",
        "\n",
        "  # Cipher(n) = De-cipher(26-n)\n",
        "  s=s\n",
        "  print(s)\n",
        "  result=\"\"\n",
        "  for i in range(len(text)):\n",
        "      char=text[i]\n",
        "      if(char.isupper()):\n",
        "          result=result+chr((ord(char)-s-65)%26+65)\n",
        "      else:\n",
        "          result=result+chr((ord(char)-s-97)%26+97)\n",
        "  return result\n",
        "\n",
        "\n",
        "word=str(input(\"enter the word:\"))\n",
        "d=int(input(\"Enter the key: \"))\n",
        "\n",
        "print(\"Encoded word in Caeser cipher is: \",decrypt(word,d))\n"
      ],
      "metadata": {
        "colab": {
          "base_uri": "https://localhost:8080/"
        },
        "id": "dJjOKqgBBIye",
        "outputId": "ece970a7-83f5-4142-943e-fe2038ab223e"
      },
      "execution_count": null,
      "outputs": [
        {
          "output_type": "stream",
          "name": "stdout",
          "text": [
            "enter the word:EvrezrGlexyvzihm\n",
            "Enter the key: 4\n",
            "4\n",
            "Encoded word in Caeser cipher is:  ArnavnChaturvedi\n"
          ]
        }
      ]
    }
  ]
}